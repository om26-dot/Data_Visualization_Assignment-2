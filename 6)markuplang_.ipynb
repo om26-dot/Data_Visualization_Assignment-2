{
  "nbformat": 4,
  "nbformat_minor": 0,
  "metadata": {
    "colab": {
      "provenance": []
    },
    "kernelspec": {
      "name": "python3",
      "display_name": "Python 3"
    },
    "language_info": {
      "name": "python"
    }
  },
  "cells": [
    {
      "cell_type": "markdown",
      "source": [
        "6)Develop a code to showcase the web services including eXtensible\n",
        "Markup Language\n"
      ],
      "metadata": {
        "id": "dL-3gBSJDdaD"
      }
    },
    {
      "cell_type": "code",
      "source": [
        "import xml.etree.ElementTree as ET\n",
        "\n",
        "# Function to simulate a web service that generates XML data\n",
        "def create_xml_web_service():\n",
        "    # Create root element\n",
        "    root = ET.Element(\"WebService\")\n",
        "\n",
        "    # Add service details\n",
        "    service_info = ET.SubElement(root, \"ServiceInfo\")\n",
        "    ET.SubElement(service_info, \"Name\").text = \"WeatherAPI\"\n",
        "    ET.SubElement(service_info, \"Version\").text = \"1.0\"\n",
        "\n",
        "    # Add response data\n",
        "    response = ET.SubElement(root, \"Response\")\n",
        "    city = ET.SubElement(response, \"City\")\n",
        "    city.set(\"name\", \"New York\")\n",
        "    ET.SubElement(city, \"Temperature\").text = \"15°C\"\n",
        "    ET.SubElement(city, \"Condition\").text = \"Sunny\"\n",
        "\n",
        "    # Generate XML string\n",
        "    xml_data = ET.tostring(root, encoding='unicode')\n",
        "    return xml_data\n",
        "\n",
        "# Function to parse XML data from a web service\n",
        "def parse_xml_response(xml_data):\n",
        "    # Parse the XML\n",
        "    root = ET.fromstring(xml_data)\n",
        "\n",
        "    # Extract and print service info\n",
        "    service_info = root.find(\"ServiceInfo\")\n",
        "    print(\"Service Name:\", service_info.find(\"Name\").text)\n",
        "    print(\"Version:\", service_info.find(\"Version\").text)\n",
        "\n",
        "    # Extract and print response data\n",
        "    response = root.find(\"Response\")\n",
        "    city = response.find(\"City\")\n",
        "    print(\"\\nCity:\", city.get(\"name\"))\n",
        "    print(\"Temperature:\", city.find(\"Temperature\").text)\n",
        "    print(\"Condition:\", city.find(\"Condition\").text)\n",
        "\n",
        "# Simulate the web service and parse its XML response\n",
        "print(\"Simulating Web Service...\")\n",
        "xml_data = create_xml_web_service()\n",
        "print(\"\\nGenerated XML Data:\\n\", xml_data)\n",
        "\n",
        "print(\"\\nParsing XML Response...\")\n",
        "parse_xml_response(xml_data)\n"
      ],
      "metadata": {
        "colab": {
          "base_uri": "https://localhost:8080/"
        },
        "id": "9R4BaUTLB1_s",
        "outputId": "6945e00e-a594-46b0-ea82-86d4837e3af4"
      },
      "execution_count": 13,
      "outputs": [
        {
          "output_type": "stream",
          "name": "stdout",
          "text": [
            "Simulating Web Service...\n",
            "\n",
            "Generated XML Data:\n",
            " <WebService><ServiceInfo><Name>WeatherAPI</Name><Version>1.0</Version></ServiceInfo><Response><City name=\"New York\"><Temperature>15°C</Temperature><Condition>Sunny</Condition></City></Response></WebService>\n",
            "\n",
            "Parsing XML Response...\n",
            "Service Name: WeatherAPI\n",
            "Version: 1.0\n",
            "\n",
            "City: New York\n",
            "Temperature: 15°C\n",
            "Condition: Sunny\n"
          ]
        }
      ]
    }
  ]
}